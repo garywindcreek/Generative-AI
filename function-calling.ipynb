{
 "cells": [
  {
   "cell_type": "markdown",
   "metadata": {},
   "source": [
    "https://platform.openai.com/docs/guides/function-calling"
   ]
  },
  {
   "cell_type": "code",
   "execution_count": 16,
   "metadata": {},
   "outputs": [],
   "source": [
    "from dotenv import load_dotenv\n",
    "import os\n",
    "import openai\n",
    "from openai import OpenAI\n",
    "import pandas as pd\n",
    "import json"
   ]
  },
  {
   "cell_type": "code",
   "execution_count": 2,
   "metadata": {},
   "outputs": [],
   "source": [
    "load_dotenv()\n",
    "\n",
    "API_KEY = os.getenv('API_KEY')"
   ]
  },
  {
   "cell_type": "code",
   "execution_count": 3,
   "metadata": {},
   "outputs": [],
   "source": [
    "client = OpenAI(\n",
    "    api_key=os.environ.get(\"API_KEY\"),\n",
    ")"
   ]
  },
  {
   "cell_type": "code",
   "execution_count": 11,
   "metadata": {},
   "outputs": [
    {
     "name": "stdout",
     "output_type": "stream",
     "text": [
      "Hello! How can I assist you today?\n"
     ]
    }
   ],
   "source": [
    "response = client.chat.completions.create(\n",
    "    model = 'gpt-4-turbo', \n",
    "    messages = [{\"role\": \"system\", \"content\": 'You are a helpful assistant which informs about temperature'}, # system: tell the agent what role it needs to play\n",
    "                {\"role\": \"user\", \"content\": 'Hey there'}],  \n",
    "    temperature = 0.1\n",
    "    )\n",
    "print(response.choices[0].message.content)"
   ]
  },
  {
   "cell_type": "markdown",
   "metadata": {},
   "source": [
    "#### https://rapidapi.com/MeteosourceWeather/api/ai-weather-by-meteosource"
   ]
  },
  {
   "cell_type": "code",
   "execution_count": 19,
   "metadata": {},
   "outputs": [],
   "source": [
    "# Example dummy function hard coded to return the same weather\n",
    "# In production, this could be your backend API or an external API\n",
    "import requests\n",
    "def get_current_weather(location):\n",
    "    \"\"\"Get the current weather in a given location\"\"\"\n",
    "\n",
    "    url = \"https://ai-weather-by-meteosource.p.rapidapi.com/find_places\"\n",
    "\n",
    "    querystring = {\"text\":location}\n",
    "\n",
    "    headers = {\n",
    "      \"X-RapidAPI-Key\": \"b135cb7c3emsha69d64dddb4aae4p1c74b6jsn969c589c8bda\",\n",
    "      \"X-RapidAPI-Host\": \"ai-weather-by-meteosource.p.rapidapi.com\"\n",
    "    }\n",
    "\n",
    "    response = requests.get(url, headers=headers, params=querystring)\n",
    "    response = json.dumps(response.json(), indent=4)\n",
    "    \n",
    "    print(response)\n",
    "    return response"
   ]
  },
  {
   "cell_type": "code",
   "execution_count": 20,
   "metadata": {},
   "outputs": [
    {
     "name": "stdout",
     "output_type": "stream",
     "text": [
      "[\n",
      "    {\n",
      "        \"name\": \"Beijing\",\n",
      "        \"place_id\": \"beijing\",\n",
      "        \"adm_area1\": \"Beijing Municipality\",\n",
      "        \"adm_area2\": null,\n",
      "        \"country\": \"China\",\n",
      "        \"lat\": \"39.9075N\",\n",
      "        \"lon\": \"116.39723E\",\n",
      "        \"timezone\": \"Asia/Shanghai\",\n",
      "        \"type\": \"settlement\"\n",
      "    },\n",
      "    {\n",
      "        \"name\": \"Kitazakai\",\n",
      "        \"place_id\": \"kitazakai-8311269\",\n",
      "        \"adm_area1\": \"Miyagi\",\n",
      "        \"adm_area2\": \"Ishinomaki Shi\",\n",
      "        \"country\": \"Japan\",\n",
      "        \"lat\": \"38.47681N\",\n",
      "        \"lon\": \"141.30933E\",\n",
      "        \"timezone\": \"Asia/Tokyo\",\n",
      "        \"type\": \"settlement\"\n",
      "    },\n",
      "    {\n",
      "        \"name\": \"Beijing\",\n",
      "        \"place_id\": \"beijing-8404324\",\n",
      "        \"adm_area1\": \"Chongqing Municipality\",\n",
      "        \"adm_area2\": null,\n",
      "        \"country\": \"China\",\n",
      "        \"lat\": \"30.72608N\",\n",
      "        \"lon\": \"108.67483E\",\n",
      "        \"timezone\": \"Asia/Shanghai\",\n",
      "        \"type\": \"settlement\"\n",
      "    },\n",
      "    {\n",
      "        \"name\": \"Beijing\",\n",
      "        \"place_id\": \"beijing-8212997\",\n",
      "        \"adm_area1\": \"Guangdong\",\n",
      "        \"adm_area2\": null,\n",
      "        \"country\": \"China\",\n",
      "        \"lat\": \"25.07655N\",\n",
      "        \"lon\": \"114.26569E\",\n",
      "        \"timezone\": \"Asia/Shanghai\",\n",
      "        \"type\": \"settlement\"\n",
      "    },\n",
      "    {\n",
      "        \"name\": \"Beijing\",\n",
      "        \"place_id\": \"beijing-7636037\",\n",
      "        \"adm_area1\": \"Jiangxi\",\n",
      "        \"adm_area2\": null,\n",
      "        \"country\": \"China\",\n",
      "        \"lat\": \"29.34644N\",\n",
      "        \"lon\": \"116.19873E\",\n",
      "        \"timezone\": \"Asia/Shanghai\",\n",
      "        \"type\": \"settlement\"\n",
      "    },\n",
      "    {\n",
      "        \"name\": \"Beijing\",\n",
      "        \"place_id\": \"beijing-10196578\",\n",
      "        \"adm_area1\": \"Sichuan\",\n",
      "        \"adm_area2\": null,\n",
      "        \"country\": \"China\",\n",
      "        \"lat\": \"30.9699N\",\n",
      "        \"lon\": \"103.94E\",\n",
      "        \"timezone\": \"Asia/Shanghai\",\n",
      "        \"type\": \"settlement\"\n",
      "    },\n",
      "    {\n",
      "        \"name\": \"Beijing\",\n",
      "        \"place_id\": \"beijing-11426158\",\n",
      "        \"adm_area1\": \"Shanxi\",\n",
      "        \"adm_area2\": null,\n",
      "        \"country\": \"China\",\n",
      "        \"lat\": \"35.12965N\",\n",
      "        \"lon\": \"110.64191E\",\n",
      "        \"timezone\": \"Asia/Shanghai\",\n",
      "        \"type\": \"settlement\"\n",
      "    },\n",
      "    {\n",
      "        \"name\": \"Beijingzi\",\n",
      "        \"place_id\": \"beijingzi-1816664\",\n",
      "        \"adm_area1\": \"Liaoning\",\n",
      "        \"adm_area2\": null,\n",
      "        \"country\": \"China\",\n",
      "        \"lat\": \"39.8825N\",\n",
      "        \"lon\": \"123.91194E\",\n",
      "        \"timezone\": \"Asia/Shanghai\",\n",
      "        \"type\": \"settlement\"\n",
      "    },\n",
      "    {\n",
      "        \"name\": \"Beijing Municipality\",\n",
      "        \"place_id\": \"beijing-shi\",\n",
      "        \"adm_area1\": \"Beijing Municipality\",\n",
      "        \"adm_area2\": null,\n",
      "        \"country\": \"China\",\n",
      "        \"lat\": \"39.91691N\",\n",
      "        \"lon\": \"116.39706E\",\n",
      "        \"timezone\": \"Asia/Shanghai\",\n",
      "        \"type\": \"administrative_area\"\n",
      "    },\n",
      "    {\n",
      "        \"name\": \"Chaoyang Qu\",\n",
      "        \"place_id\": \"chaoyang-qu\",\n",
      "        \"adm_area1\": \"Beijing Municipality\",\n",
      "        \"adm_area2\": \"Beijing\",\n",
      "        \"country\": \"China\",\n",
      "        \"lat\": \"39.95462N\",\n",
      "        \"lon\": \"116.5029E\",\n",
      "        \"timezone\": \"Asia/Shanghai\",\n",
      "        \"type\": \"administrative_area\"\n",
      "    }\n",
      "]\n"
     ]
    }
   ],
   "source": [
    "response=get_current_weather('Beijing')"
   ]
  },
  {
   "cell_type": "code",
   "execution_count": 22,
   "metadata": {},
   "outputs": [
    {
     "data": {
      "text/plain": [
       "[{'name': 'get_current_weather',\n",
       "  'description': 'Get the current weather in a given location',\n",
       "  'parameters': {'type': 'object',\n",
       "   'properties': {'location': {'type': 'string',\n",
       "     'description': 'The city and state, e.g. San Francisco, CA'}},\n",
       "   'required': ['location']}}]"
      ]
     },
     "execution_count": 22,
     "metadata": {},
     "output_type": "execute_result"
    }
   ],
   "source": [
    "# This is for the OPENAPI to understand\n",
    "functions = [\n",
    "        {\n",
    "            \"name\": \"get_current_weather\",\n",
    "            \"description\": \"Get the current weather in a given location\",\n",
    "            \"parameters\": {\n",
    "                \"type\": \"object\",\n",
    "                \"properties\": {\n",
    "                    \"location\": {\n",
    "                        \"type\": \"string\",\n",
    "                        \"description\": \"The city and state, e.g. San Francisco, CA\",\n",
    "                    },\n",
    "                    \n",
    "                },\n",
    "                \"required\": [\"location\"],\n",
    "            },\n",
    "        }\n",
    "    ]\n",
    "\n",
    "functions"
   ]
  },
  {
   "cell_type": "code",
   "execution_count": 23,
   "metadata": {},
   "outputs": [],
   "source": [
    "user_message=\"Hi There\"\n",
    "messages=[]\n",
    "messages.append({\"role\": \"user\", \"content\":user_message})\n",
    "completion=client.chat.completions.create(\n",
    "    model = \"gpt-4-turbo\",\n",
    "    messages = messages\n",
    "    \n",
    ")"
   ]
  },
  {
   "cell_type": "code",
   "execution_count": 25,
   "metadata": {},
   "outputs": [
    {
     "data": {
      "text/plain": [
       "[{'role': 'user', 'content': 'Hi There'}]"
      ]
     },
     "execution_count": 25,
     "metadata": {},
     "output_type": "execute_result"
    }
   ],
   "source": [
    "messages"
   ]
  },
  {
   "cell_type": "code",
   "execution_count": 24,
   "metadata": {},
   "outputs": [
    {
     "name": "stdout",
     "output_type": "stream",
     "text": [
      "ChatCompletionMessage(content='Hello! How can I assist you today?', role='assistant', function_call=None, tool_calls=None)\n"
     ]
    }
   ],
   "source": [
    "print(completion.choices[0].message)"
   ]
  },
  {
   "cell_type": "code",
   "execution_count": 26,
   "metadata": {},
   "outputs": [],
   "source": [
    "user_message=\"What is the temperature of Boston\"\n",
    "\n",
    "messages.append({\"role\": \"user\", \"content\": user_message})\n",
    "completion=client.chat.completions.create(\n",
    "    model=\"gpt-4-turbo\",\n",
    "    messages=messages,\n",
    "    functions=functions\n",
    "    \n",
    ")"
   ]
  },
  {
   "cell_type": "code",
   "execution_count": 49,
   "metadata": {},
   "outputs": [
    {
     "data": {
      "text/plain": [
       "[{'role': 'user', 'content': 'Hi There'},\n",
       " {'role': 'user', 'content': 'What is the temperature of Boston'}]"
      ]
     },
     "execution_count": 49,
     "metadata": {},
     "output_type": "execute_result"
    }
   ],
   "source": [
    "messages"
   ]
  },
  {
   "cell_type": "code",
   "execution_count": 50,
   "metadata": {},
   "outputs": [
    {
     "data": {
      "text/plain": [
       "ChatCompletionMessage(content=None, role='assistant', function_call=FunctionCall(arguments='{\"location\":\"Boston, MA\"}', name='get_current_weather'), tool_calls=None)"
      ]
     },
     "execution_count": 50,
     "metadata": {},
     "output_type": "execute_result"
    }
   ],
   "source": [
    "response=completion.choices[0].message\n",
    "response"
   ]
  },
  {
   "cell_type": "code",
   "execution_count": 48,
   "metadata": {},
   "outputs": [
    {
     "name": "stdout",
     "output_type": "stream",
     "text": [
      "Boston, MA\n"
     ]
    }
   ],
   "source": [
    "import json\n",
    "location=eval(response.function_call.arguments)['location'] # eval: convert string to JSON\n",
    "print(location)"
   ]
  },
  {
   "cell_type": "code",
   "execution_count": 59,
   "metadata": {},
   "outputs": [
    {
     "data": {
      "text/plain": [
       "'get_current_weather'"
      ]
     },
     "execution_count": 59,
     "metadata": {},
     "output_type": "execute_result"
    }
   ],
   "source": [
    "function_name=response.function_call.name\n",
    "function_name"
   ]
  },
  {
   "cell_type": "markdown",
   "metadata": {},
   "source": [
    "## Send the info on the function call and function response to GPT"
   ]
  },
  {
   "cell_type": "code",
   "execution_count": 60,
   "metadata": {},
   "outputs": [
    {
     "data": {
      "text/plain": [
       "[{'role': 'user', 'content': 'Hi There'},\n",
       " {'role': 'user', 'content': 'What is the temperature of Boston'},\n",
       " ChatCompletionMessage(content=None, role='assistant', function_call=FunctionCall(arguments='{\"location\":\"Boston, MA\"}', name='get_current_weather'), tool_calls=None),\n",
       " {'role': 'function', 'name': 'get_current_weather', 'content': 'Boston, MA'}]"
      ]
     },
     "execution_count": 60,
     "metadata": {},
     "output_type": "execute_result"
    }
   ],
   "source": [
    "messages.append(response)  # extend conversation with assistant's reply\n",
    "messages.append(\n",
    "    {\n",
    "        \"role\": \"function\",\n",
    "        \"name\": function_name,\n",
    "        \"content\": location,\n",
    "    }\n",
    ")"
   ]
  },
  {
   "cell_type": "code",
   "execution_count": 64,
   "metadata": {},
   "outputs": [
    {
     "data": {
      "text/plain": [
       "[{'role': 'user', 'content': 'Hi There'},\n",
       " {'role': 'user', 'content': 'What is the temperature of Boston'},\n",
       " ChatCompletionMessage(content=None, role='assistant', function_call=FunctionCall(arguments='{\"location\":\"Boston, MA\"}', name='get_current_weather'), tool_calls=None),\n",
       " {'role': 'function', 'name': 'get_current_weather', 'content': 'Boston, MA'}]"
      ]
     },
     "execution_count": 64,
     "metadata": {},
     "output_type": "execute_result"
    }
   ],
   "source": [
    "messages"
   ]
  },
  {
   "cell_type": "code",
   "execution_count": 62,
   "metadata": {},
   "outputs": [],
   "source": [
    "# extend conversation with function response\n",
    "second_response = client.chat.completions.create(\n",
    "    model=\"gpt-4-turbo\",\n",
    "    messages=messages,\n",
    "    functions=functions\n",
    ")  # get a new response from GPT where it can see the function response"
   ]
  },
  {
   "cell_type": "code",
   "execution_count": 63,
   "metadata": {},
   "outputs": [
    {
     "name": "stdout",
     "output_type": "stream",
     "text": [
      "ChatCompletionMessage(content='The current temperature in Boston, MA is not specified in the response. Is there anything else you need help with?', role='assistant', function_call=None, tool_calls=None)\n"
     ]
    }
   ],
   "source": [
    "\n",
    "print(second_response.choices[0].message)"
   ]
  }
 ],
 "metadata": {
  "kernelspec": {
   "display_name": "Python 3",
   "language": "python",
   "name": "python3"
  },
  "language_info": {
   "codemirror_mode": {
    "name": "ipython",
    "version": 3
   },
   "file_extension": ".py",
   "mimetype": "text/x-python",
   "name": "python",
   "nbconvert_exporter": "python",
   "pygments_lexer": "ipython3",
   "version": "3.10.6"
  },
  "orig_nbformat": 4
 },
 "nbformat": 4,
 "nbformat_minor": 2
}
