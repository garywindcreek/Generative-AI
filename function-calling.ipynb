{
 "cells": [
  {
   "cell_type": "markdown",
   "metadata": {},
   "source": [
    "https://platform.openai.com/docs/guides/function-calling"
   ]
  },
  {
   "cell_type": "code",
   "execution_count": 1,
   "metadata": {},
   "outputs": [
    {
     "ename": "ModuleNotFoundError",
     "evalue": "No module named 'dotenv'",
     "output_type": "error",
     "traceback": [
      "\u001b[0;31m---------------------------------------------------------------------------\u001b[0m",
      "\u001b[0;31mModuleNotFoundError\u001b[0m                       Traceback (most recent call last)",
      "Cell \u001b[0;32mIn[1], line 1\u001b[0m\n\u001b[0;32m----> 1\u001b[0m \u001b[39mfrom\u001b[39;00m \u001b[39mdotenv\u001b[39;00m \u001b[39mimport\u001b[39;00m load_dotenv\n\u001b[1;32m      2\u001b[0m \u001b[39mimport\u001b[39;00m \u001b[39mos\u001b[39;00m\n\u001b[1;32m      3\u001b[0m \u001b[39mimport\u001b[39;00m \u001b[39mopenai\u001b[39;00m\n",
      "\u001b[0;31mModuleNotFoundError\u001b[0m: No module named 'dotenv'"
     ]
    }
   ],
   "source": [
    "from dotenv import load_dotenv\n",
    "import os\n",
    "import openai\n",
    "from openai import OpenAI\n",
    "import pandas as pd\n",
    "import json"
   ]
  },
  {
   "cell_type": "code",
   "execution_count": 3,
   "metadata": {},
   "outputs": [],
   "source": [
    "load_dotenv()\n",
    "\n",
    "API_KEY = os.getenv('API_KEY')"
   ]
  },
  {
   "cell_type": "code",
   "execution_count": 4,
   "metadata": {},
   "outputs": [],
   "source": [
    "client = OpenAI(\n",
    "    api_key=os.environ.get(\"API_KEY\"),\n",
    ")"
   ]
  },
  {
   "cell_type": "code",
   "execution_count": 5,
   "metadata": {},
   "outputs": [
    {
     "name": "stdout",
     "output_type": "stream",
     "text": [
      "Hello! How can I assist you today?\n"
     ]
    }
   ],
   "source": [
    "response = client.chat.completions.create(\n",
    "    model = 'gpt-4-turbo', \n",
    "    messages = [{\"role\": \"system\", \"content\": 'You are a helpful assistant which informs about temperature'}, # system: tell the agent what role it needs to play\n",
    "                {\"role\": \"user\", \"content\": 'Hey there'}],  \n",
    "    temperature = 0.1\n",
    "    )\n",
    "print(response.choices[0].message.content)"
   ]
  },
  {
   "cell_type": "markdown",
   "metadata": {},
   "source": [
    "#### https://rapidapi.com/MeteosourceWeather/api/ai-weather-by-meteosource"
   ]
  },
  {
   "cell_type": "code",
   "execution_count": 211,
   "metadata": {},
   "outputs": [],
   "source": [
    "# Example dummy function hard coded to return the same weather\n",
    "# In production, this could be your backend API or an external API\n",
    "import requests\n",
    "def get_current_weather(location):\n",
    "    \"\"\"Get the current weather in a given location\"\"\"\n",
    "\n",
    "    url = \"https://yahoo-weather5.p.rapidapi.com/weather\"\n",
    "\n",
    "    querystring = {\"location\":location}\n",
    "\n",
    "    headers = {\n",
    "      \"X-RapidAPI-Key\": \"b135cb7c3emsha69d64dddb4aae4p1c74b6jsn969c589c8bda\",\n",
    "      \"X-RapidAPI-Host\": \"yahoo-weather5.p.rapidapi.com\"\n",
    "    }\n",
    "\n",
    "    response = requests.get(url, headers=headers, params=querystring)\n",
    "    response = json.dumps(response.json(), indent=4)\n",
    "    \n",
    "    print(response)\n",
    "    return eval(response)['current_observation']"
   ]
  },
  {
   "cell_type": "code",
   "execution_count": 212,
   "metadata": {},
   "outputs": [
    {
     "name": "stdout",
     "output_type": "stream",
     "text": [
      "{\n",
      "    \"location\": {\n",
      "        \"city\": \"Boston\",\n",
      "        \"woeid\": 2367105,\n",
      "        \"country\": \"United States\",\n",
      "        \"lat\": 42.358631,\n",
      "        \"long\": -71.056702,\n",
      "        \"timezone_id\": \"America/New_York\"\n",
      "    },\n",
      "    \"current_observation\": {\n",
      "        \"pubDate\": 1717866629,\n",
      "        \"wind\": {\n",
      "            \"chill\": 79,\n",
      "            \"direction\": \"West\",\n",
      "            \"speed\": 13\n",
      "        },\n",
      "        \"atmosphere\": {\n",
      "            \"humidity\": 45,\n",
      "            \"visibility\": 21,\n",
      "            \"pressure\": 1004.1\n",
      "        },\n",
      "        \"astronomy\": {\n",
      "            \"sunrise\": \"5:07 AM\",\n",
      "            \"sunset\": \"8:20 PM\"\n",
      "        },\n",
      "        \"condition\": {\n",
      "            \"temperature\": 75,\n",
      "            \"text\": \"Fair\"\n",
      "        }\n",
      "    },\n",
      "    \"forecasts\": [\n",
      "        {\n",
      "            \"day\": \"Sat\",\n",
      "            \"date\": 1717862400,\n",
      "            \"high\": 75,\n",
      "            \"low\": 63,\n",
      "            \"text\": \"Mostly Cloudy\",\n",
      "            \"code\": 28\n",
      "        },\n",
      "        {\n",
      "            \"day\": \"Sun\",\n",
      "            \"date\": 1717948800,\n",
      "            \"high\": 71,\n",
      "            \"low\": 57,\n",
      "            \"text\": \"Thunderstorms\",\n",
      "            \"code\": 4\n",
      "        },\n",
      "        {\n",
      "            \"day\": \"Mon\",\n",
      "            \"date\": 1718035200,\n",
      "            \"high\": 75,\n",
      "            \"low\": 58,\n",
      "            \"text\": \"Mostly Cloudy\",\n",
      "            \"code\": 28\n",
      "        },\n",
      "        {\n",
      "            \"day\": \"Tue\",\n",
      "            \"date\": 1718121600,\n",
      "            \"high\": 75,\n",
      "            \"low\": 58,\n",
      "            \"text\": \"Mostly Cloudy\",\n",
      "            \"code\": 28\n",
      "        },\n",
      "        {\n",
      "            \"day\": \"Wed\",\n",
      "            \"date\": 1718208000,\n",
      "            \"high\": 77,\n",
      "            \"low\": 62,\n",
      "            \"text\": \"Partly Cloudy\",\n",
      "            \"code\": 30\n",
      "        },\n",
      "        {\n",
      "            \"day\": \"Thu\",\n",
      "            \"date\": 1718294400,\n",
      "            \"high\": 83,\n",
      "            \"low\": 63,\n",
      "            \"text\": \"Partly Cloudy\",\n",
      "            \"code\": 30\n",
      "        },\n",
      "        {\n",
      "            \"day\": \"Fri\",\n",
      "            \"date\": 1718380800,\n",
      "            \"high\": 83,\n",
      "            \"low\": 64,\n",
      "            \"text\": \"Mostly Cloudy\",\n",
      "            \"code\": 28\n",
      "        },\n",
      "        {\n",
      "            \"day\": \"Sat\",\n",
      "            \"date\": 1718467200,\n",
      "            \"high\": 79,\n",
      "            \"low\": 62,\n",
      "            \"text\": \"Sunny\",\n",
      "            \"code\": 32\n",
      "        },\n",
      "        {\n",
      "            \"day\": \"Sun\",\n",
      "            \"date\": 1718553600,\n",
      "            \"high\": 78,\n",
      "            \"low\": 64,\n",
      "            \"text\": \"Mostly Sunny\",\n",
      "            \"code\": 34\n",
      "        },\n",
      "        {\n",
      "            \"day\": \"Mon\",\n",
      "            \"date\": 1718640000,\n",
      "            \"high\": 80,\n",
      "            \"low\": 64,\n",
      "            \"text\": \"Sunny\",\n",
      "            \"code\": 32\n",
      "        },\n",
      "        {\n",
      "            \"day\": \"Tue\",\n",
      "            \"date\": 1718726400,\n",
      "            \"high\": 77,\n",
      "            \"low\": 63,\n",
      "            \"text\": \"Partly Cloudy\",\n",
      "            \"code\": 30\n",
      "        }\n",
      "    ]\n",
      "}\n"
     ]
    }
   ],
   "source": [
    "response=get_current_weather('Boston')"
   ]
  },
  {
   "cell_type": "code",
   "execution_count": 214,
   "metadata": {},
   "outputs": [
    {
     "data": {
      "text/plain": [
       "{'pubDate': 1717866629,\n",
       " 'wind': {'chill': 79, 'direction': 'West', 'speed': 13},\n",
       " 'atmosphere': {'humidity': 45, 'visibility': 21, 'pressure': 1004.1},\n",
       " 'astronomy': {'sunrise': '5:07 AM', 'sunset': '8:20 PM'},\n",
       " 'condition': {'temperature': 75, 'text': 'Fair'}}"
      ]
     },
     "execution_count": 214,
     "metadata": {},
     "output_type": "execute_result"
    }
   ],
   "source": [
    "response"
   ]
  },
  {
   "cell_type": "code",
   "execution_count": 216,
   "metadata": {},
   "outputs": [
    {
     "data": {
      "text/plain": [
       "[{'name': 'get_current_weather',\n",
       "  'description': 'Get the current weather in a given location',\n",
       "  'parameters': {'type': 'object',\n",
       "   'properties': {'location': {'type': 'string',\n",
       "     'description': 'The city and state, e.g. San Francisco, CA'}},\n",
       "   'required': ['location']}}]"
      ]
     },
     "execution_count": 216,
     "metadata": {},
     "output_type": "execute_result"
    }
   ],
   "source": [
    "# This is for the OPENAPI to understand\n",
    "functions = [\n",
    "        {\n",
    "            \"name\": \"get_current_weather\",\n",
    "            \"description\": \"Get the current weather in a given location\",\n",
    "            \"parameters\": {\n",
    "                \"type\": \"object\",\n",
    "                \"properties\": {\n",
    "                    \"location\": {\n",
    "                        \"type\": \"string\",\n",
    "                        \"description\": \"The city and state, e.g. San Francisco, CA\",\n",
    "                    },\n",
    "                    \n",
    "                },\n",
    "                \"required\": [\"location\"],\n",
    "            },\n",
    "        }\n",
    "    ]\n",
    "\n",
    "functions"
   ]
  },
  {
   "cell_type": "code",
   "execution_count": 217,
   "metadata": {},
   "outputs": [],
   "source": [
    "user_message=\"Hi There\"\n",
    "messages=[]\n",
    "messages.append({\"role\": \"user\", \"content\":user_message})\n",
    "completion=client.chat.completions.create(\n",
    "    model = \"gpt-4-turbo\",\n",
    "    messages = messages\n",
    "    \n",
    ")"
   ]
  },
  {
   "cell_type": "code",
   "execution_count": 218,
   "metadata": {},
   "outputs": [
    {
     "data": {
      "text/plain": [
       "[{'role': 'user', 'content': 'Hi There'}]"
      ]
     },
     "execution_count": 218,
     "metadata": {},
     "output_type": "execute_result"
    }
   ],
   "source": [
    "messages"
   ]
  },
  {
   "cell_type": "code",
   "execution_count": 219,
   "metadata": {},
   "outputs": [
    {
     "name": "stdout",
     "output_type": "stream",
     "text": [
      "ChatCompletionMessage(content='Hello! How can I assist you today?', role='assistant', function_call=None, tool_calls=None)\n"
     ]
    }
   ],
   "source": [
    "print(completion.choices[0].message)"
   ]
  },
  {
   "cell_type": "code",
   "execution_count": 220,
   "metadata": {},
   "outputs": [],
   "source": [
    "user_message=\"What is the temperature of Boston now\"\n",
    "\n",
    "messages.append({\"role\": \"user\", \"content\": user_message})\n",
    "completion=client.chat.completions.create(\n",
    "    model=\"gpt-4-turbo\",\n",
    "    messages=messages,\n",
    "    functions=functions # add function\n",
    "    \n",
    ")"
   ]
  },
  {
   "cell_type": "code",
   "execution_count": 221,
   "metadata": {},
   "outputs": [
    {
     "data": {
      "text/plain": [
       "[{'role': 'user', 'content': 'Hi There'},\n",
       " {'role': 'user', 'content': 'What is the temperature of Boston now'}]"
      ]
     },
     "execution_count": 221,
     "metadata": {},
     "output_type": "execute_result"
    }
   ],
   "source": [
    "messages"
   ]
  },
  {
   "cell_type": "markdown",
   "metadata": {},
   "source": [
    "We didn't attach the specific function, but OPENAI is able to understand what function to call and what parameters to use"
   ]
  },
  {
   "cell_type": "code",
   "execution_count": 222,
   "metadata": {},
   "outputs": [
    {
     "data": {
      "text/plain": [
       "ChatCompletionMessage(content=None, role='assistant', function_call=FunctionCall(arguments='{\"location\":\"Boston, MA\"}', name='get_current_weather'), tool_calls=None)"
      ]
     },
     "execution_count": 222,
     "metadata": {},
     "output_type": "execute_result"
    }
   ],
   "source": [
    "response=completion.choices[0].message\n",
    "response"
   ]
  },
  {
   "cell_type": "code",
   "execution_count": 223,
   "metadata": {},
   "outputs": [
    {
     "name": "stdout",
     "output_type": "stream",
     "text": [
      "Boston, MA\n"
     ]
    }
   ],
   "source": [
    "import json\n",
    "location=eval(response.function_call.arguments)['location'] # eval: convert string to JSON\n",
    "print(location)"
   ]
  },
  {
   "cell_type": "code",
   "execution_count": 224,
   "metadata": {},
   "outputs": [
    {
     "data": {
      "text/plain": [
       "'get_current_weather'"
      ]
     },
     "execution_count": 224,
     "metadata": {},
     "output_type": "execute_result"
    }
   ],
   "source": [
    "function_name=response.function_call.name\n",
    "function_name"
   ]
  },
  {
   "cell_type": "markdown",
   "metadata": {},
   "source": [
    "## Send the info on the function call and function response to GPT"
   ]
  },
  {
   "cell_type": "code",
   "execution_count": 225,
   "metadata": {},
   "outputs": [],
   "source": [
    "messages.append(response)  # extend conversation with assistant's reply\n",
    "messages.append(\n",
    "    {\n",
    "        \"role\": \"function\",\n",
    "        \"name\": function_name,\n",
    "        \"content\": location,\n",
    "    }\n",
    ")"
   ]
  },
  {
   "cell_type": "code",
   "execution_count": 227,
   "metadata": {},
   "outputs": [
    {
     "data": {
      "text/plain": [
       "[{'role': 'user', 'content': 'Hi There'},\n",
       " {'role': 'user', 'content': 'What is the temperature of Boston now'},\n",
       " ChatCompletionMessage(content=None, role='assistant', function_call=FunctionCall(arguments='{\"location\":\"Boston, MA\"}', name='get_current_weather'), tool_calls=None),\n",
       " {'role': 'function', 'name': 'get_current_weather', 'content': 'Boston, MA'}]"
      ]
     },
     "execution_count": 227,
     "metadata": {},
     "output_type": "execute_result"
    }
   ],
   "source": [
    "messages"
   ]
  },
  {
   "cell_type": "code",
   "execution_count": 234,
   "metadata": {},
   "outputs": [
    {
     "name": "stdout",
     "output_type": "stream",
     "text": [
      "ChatCompletionMessage(content=\"I'll need a moment to fetch the latest weather data for Boston, MA. Please hang tight!\\nIt seems there was an issue retrieving the temperature for Boston. Let's try that again.\", role='assistant', function_call=None, tool_calls=None)\n"
     ]
    }
   ],
   "source": [
    "# extend conversation with function response\n",
    "second_response = client.chat.completions.create(\n",
    "    model=\"gpt-4-turbo\",\n",
    "    messages=messages,\n",
    "    functions=functions\n",
    ")  # get a new response from GPT where it can see the function response\n",
    "\n",
    "print(second_response.choices[0].message)"
   ]
  }
 ],
 "metadata": {
  "kernelspec": {
   "display_name": "Python 3",
   "language": "python",
   "name": "python3"
  },
  "language_info": {
   "codemirror_mode": {
    "name": "ipython",
    "version": 3
   },
   "file_extension": ".py",
   "mimetype": "text/x-python",
   "name": "python",
   "nbconvert_exporter": "python",
   "pygments_lexer": "ipython3",
   "version": "3.10.0"
  },
  "orig_nbformat": 4
 },
 "nbformat": 4,
 "nbformat_minor": 2
}
