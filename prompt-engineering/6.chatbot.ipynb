{
 "cells": [
  {
   "cell_type": "code",
   "execution_count": 1,
   "metadata": {},
   "outputs": [],
   "source": [
    "from dotenv import load_dotenv\n",
    "import os\n",
    "from openai import OpenAI\n",
    "\n",
    "load_dotenv()\n",
    "API_KEY = os.getenv('API_KEY')\n",
    "\n",
    "client = OpenAI(\n",
    "    api_key=os.environ.get(\"API_KEY\"),\n",
    ")"
   ]
  },
  {
   "cell_type": "markdown",
   "metadata": {},
   "source": [
    "## This is the previous help function\n",
    "\n",
    "Put the prompt in the content as a user (role) to get the output\n",
    "\n",
    "<img src=\"get_response_to_prompt.png\" alt=\"get_response_to_prompt image\" width=\"500\" height=\"600\"/>"
   ]
  },
  {
   "cell_type": "code",
   "execution_count": null,
   "metadata": {},
   "outputs": [],
   "source": [
    "def get_response_to_prompt (prompt, temperature=0):\n",
    "    response = client.chat.completions.create(\n",
    "        model = 'gpt-3.5-turbo', \n",
    "        messages = [{\"role\": \"user\", \"content\": prompt}],  \n",
    "        temperature = temperature # this is the degree of randomness of the model's output\n",
    "        )\n",
    "    return response.choices[0].message.content"
   ]
  }
 ],
 "metadata": {
  "kernelspec": {
   "display_name": "base",
   "language": "python",
   "name": "python3"
  },
  "language_info": {
   "codemirror_mode": {
    "name": "ipython",
    "version": 3
   },
   "file_extension": ".py",
   "mimetype": "text/x-python",
   "name": "python",
   "nbconvert_exporter": "python",
   "pygments_lexer": "ipython3",
   "version": "3.10.6"
  },
  "orig_nbformat": 4
 },
 "nbformat": 4,
 "nbformat_minor": 2
}
